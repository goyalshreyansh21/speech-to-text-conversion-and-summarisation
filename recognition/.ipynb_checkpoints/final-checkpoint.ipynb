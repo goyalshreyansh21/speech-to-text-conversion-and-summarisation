{
 "cells": [
  {
   "cell_type": "code",
   "execution_count": 1,
   "id": "d6ecbf75",
   "metadata": {},
   "outputs": [],
   "source": [
    "from transformers import pipeline"
   ]
  },
  {
   "cell_type": "code",
   "execution_count": 2,
   "id": "5855dbbf",
   "metadata": {},
   "outputs": [
    {
     "name": "stdout",
     "output_type": "stream",
     "text": [
      "WARNING:tensorflow:From C:\\Users\\akshi\\OneDrive\\Documents\\Lib\\site-packages\\tf_keras\\src\\losses.py:2976: The name tf.losses.sparse_softmax_cross_entropy is deprecated. Please use tf.compat.v1.losses.sparse_softmax_cross_entropy instead.\n",
      "\n"
     ]
    }
   ],
   "source": [
    "model_name=\"sshleifer/distilbart-cnn-12-6\"\n",
    "tokenizer=\"sshleifer/distilbart-cnn-12-6\"\n",
    "summarizer = pipeline(\"summarization\",model=model_name,tokenizer=tokenizer)"
   ]
  },
  {
   "cell_type": "code",
   "execution_count": 22,
   "id": "16d7e729",
   "metadata": {},
   "outputs": [
    {
     "name": "stdout",
     "output_type": "stream",
     "text": [
      "speak\n",
      "Peak to Peak Amplitude: 408\n",
      "Listening...\n",
      "You said: in the merits of a bustling Marketplace vendors called out there were while shopping through the image of stalls their own spices fill the air meaning with the charter of bargaining and the thinking of point exchanging hands creating a vibrant capacity of Commerce\n",
      "Original Text: in the merits of a bustling Marketplace vendors called out there were while shopping through the image of stalls their own spices fill the air meaning with the charter of bargaining and the thinking of point exchanging hands creating a vibrant capacity of Commerce\n",
      "in the merits of a bustling Marketplace vendors called out there were while shopping through the image of stalls their own spices fill the air meaning with the charter of bargaining and the thinking of point exchanging hands creating a vibrant capacity of Commerce\n",
      "264\n",
      "37\n",
      "29\n",
      "Summarized Text: [{'summary_text': ' Marketplace vendors called out there were while shopping through the image of stalls their own spices fill the air meaning with the charter of bargaining and the thinking of exchanging hands .'}]\n"
     ]
    }
   ],
   "source": [
    "import serial\n",
    "import speech_recognition as sr\n",
    "# import spacy\n",
    "\n",
    "# Initialize the serial port\n",
    "ser = serial.Serial('COM3', 9600)\n",
    "\n",
    "# Initialize the speech recognizer\n",
    "recognizer = sr.Recognizer()\n",
    "\n",
    "# Load English language model for spaCy\n",
    "# nlp = spacy.load(\"en_core_web_sm\")\n",
    "\n",
    "def speech_to_text():\n",
    "    print(\"speak\")\n",
    "    data = ser.readline().decode().strip()\n",
    "    print(\"Peak to Peak Amplitude:\", data)\n",
    "\n",
    "    # Perform speech recognition\n",
    "    try:\n",
    "        with sr.Microphone() as source:\n",
    "            print(\"Listening...\")\n",
    "            recognizer.adjust_for_ambient_noise(source)  # Adjust for ambient noise\n",
    "            audio = recognizer.listen(source)  # Listen for 5 seconds\n",
    "        text = recognizer.recognize_google(audio)\n",
    "        print(\"You said:\", text)\n",
    "\n",
    "        # Summarize the recognized text\n",
    "        # summary = summarize_text(text)\n",
    "        # print(\"Summary:\", summary)\n",
    "    except sr.UnknownValueError:\n",
    "        print(\"Could not understand audio\")\n",
    "    except sr.RequestError as e:\n",
    "        print(\"Could not request results; {0}\".format(e))\n",
    "    except sr.WaitTimeoutError:\n",
    "        print(\"Timeout listening for speech\")\n",
    "    except TimeoutError:\n",
    "        print(\"Timeout listening for speech\")\n",
    "    return text\n",
    "\n",
    "def summarize_text(text):\n",
    "    print(text)\n",
    "    print(len(text))\n",
    "    length=len(text)//7\n",
    "    print(length)\n",
    "    min=len(text)//8\n",
    "    print(min)\n",
    "    summary = summarizer(text, max_length=length, min_length=min, do_sample=False)\n",
    "    \n",
    "    return summary\n",
    "\n",
    "if __name__ == \"__main__\":\n",
    "    # Convert speech to text\n",
    "    recognized_text = speech_to_text()\n",
    "    if recognized_text:\n",
    "        print(\"Original Text:\", recognized_text)\n",
    "        \n",
    "        # Summarize text\n",
    "        summarized_text = summarize_text(recognized_text)\n",
    "        print(\"Summarized Text:\", summarized_text)\n"
   ]
  },
  {
   "cell_type": "code",
   "execution_count": null,
   "id": "2f57a86c",
   "metadata": {},
   "outputs": [],
   "source": []
  }
 ],
 "metadata": {
  "kernelspec": {
   "display_name": "Python 3 (ipykernel)",
   "language": "python",
   "name": "python3"
  },
  "language_info": {
   "codemirror_mode": {
    "name": "ipython",
    "version": 3
   },
   "file_extension": ".py",
   "mimetype": "text/x-python",
   "name": "python",
   "nbconvert_exporter": "python",
   "pygments_lexer": "ipython3",
   "version": "3.11.4"
  }
 },
 "nbformat": 4,
 "nbformat_minor": 5
}
